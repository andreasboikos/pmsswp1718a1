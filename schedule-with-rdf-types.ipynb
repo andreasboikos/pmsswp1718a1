newtriples = []
with open('schedule-data.nt','w') as ofp:
    for s,p,o in ntriples:
        p='<' + p + '>'
        if p=='<http://dilab77.ionio.gr/swp/c17boik/vocab#Ημέρα>':
            o='"' + o + '"'
            ofp.write('{} {} {}.\n'.format(s,p,o,s+p+o))
        if o.startswith('http'):
            o='<' + o + '>'
            ofp.write('{} {} {}.\n'.format(s,p,o,s+p+o))
        if p=='<http://dilab77.ionio.gr/swp/c17boik/vocab#Έναρξη>' or p=='<http://dilab77.ionio.gr/swp/c17boik/vocab#Λήξη>':
            o=o + ':00'
            o='"'+ o + '"' + '^^<http://www.w3.org/2001/XMLSchema#time>'
            ofp.write('{} {} {}.\n'.format(s,p,o,s+p+o))
        if s=='<http://dilab77.ionio.gr/swp/c17boik/vocab#Αίθουσα>':
            print('{} {} {} . \n'.format(o,'<http://www.w3.org/1999/02/22-rdf-syntax-ns#type>','<http://dilab77.ionio.gr/swp/c17boik/vocab#Teacher>'))
            ofp.write('{} {} {} . \n'.format(o,'<http://www.w3.org/1999/02/22-rdf-syntax-ns#type>','<http://dilab77.ionio.gr/swp/c17boik/vocab#Teacher>'))
        if p=='<http://dilab77.ionio.gr/swp/c17boik/vocab#Καθηγητής>':
            print('{} {} {} . \n'.format(o,'<http://www.w3.org/1999/02/22-rdf-syntax-ns#type>','<http://dilab77.ionio.gr/swp/c17boik/vocab#Teacher>'))
            ofp.write('{} {} {} . \n'.format(o,'<http://www.w3.org/1999/02/22-rdf-syntax-ns#type>','<http://dilab77.ionio.gr/swp/c17boik/vocab#Teacher>'))
        if p=='<http://dilab77.ionio.gr/swp/c17boik/vocab#Μάθημα>':
            print('{} {} {} . \n'.format(o,'<http://www.w3.org/1999/02/22-rdf-syntax-ns#type>','<http://dilab77.ionio.gr/swp/c17boik/vocab#Course>'))
            ofp.write('{} {} {} . \n'.format(o,'<http://www.w3.org/1999/02/22-rdf-syntax-ns#type>','<http://dilab77.ionio.gr/swp/c17boik/vocab#Course>'))
        if p=='<http://dilab77.ionio.gr/swp/c17boik/vocab#Αίθουσα>':
            print('{} {} {} . \n'.format(o,'<http://www.w3.org/1999/02/22-rdf-syntax-ns#type>','<http://dilab77.ionio.gr/swp/c17boik/vocab#Class>'))
            print('{} {} {} . \n'.format(s,'<http://www.w3.org/1999/02/22-rdf-syntax-ns#type>','<http://dilab77.ionio.gr/swp/c17boik/vocab#Lecture>'))
            ofp.write('{} {} {} . \n'.format(o,'<http://www.w3.org/1999/02/22-rdf-syntax-ns#type>','<http://dilab77.ionio.gr/swp/c17boik/vocab#Class>'))
           
            
    newtriples.append((s,p,o))
print(newtriples)


