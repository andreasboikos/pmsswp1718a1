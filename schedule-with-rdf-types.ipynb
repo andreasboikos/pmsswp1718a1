{
 "cells": [
  {
   "cell_type": "markdown",
   "metadata": {
    "deletable": true,
    "editable": true
   },
   "source": [
    "# Μετατρέποντας στη μορφή N-Triples\n",
    "\n",
    "Ολοκληρώνουμε την κατασκευή του ωρολογίου προγράμματος, μετατρέποντας τις τριάδες στο πρότυπο μορφότυπο [N-Triples](http://www.w3.org/TR/n-triples/).\n",
    "\n",
    "## 1. Φορτώστε τις τριάδες\n",
    "\n",
    "Βάλτε σε μια λίστα τις τριάδες από το τελικό csv του προηγούμενου εργαστηρίου. Αυτές θα πρέπει:\n",
    "\n",
    "* Να χρησιμοποιούν URIs με νόμιμους χαρακτήρες\n",
    "* Να έχουν σημειωμένους τους ανώνυμους κόμβους με το πρόθεμα `_:`\n",
    "* Όλα τα URIs να έχουν τη μορφή http URIs\n",
    "\n",
    "    * `http://dilab77.ionio.gr/swp/you/vocab#` για τα κατηγορήματα\n",
    "    * `http://dilab77.ionio.gr/swp/you/resource/` για τα υπόλοιπα URIs\n",
    "    \n",
    "    όπου you πρέπει να είναι το username που έχετε στο JupyterHub.\n",
    "   "
   ]
  },
  {
   "cell_type": "code",
   "execution_count": 5,
   "metadata": {
    "collapsed": false,
    "deletable": true,
    "editable": true
   },
   "outputs": [
    {
     "name": "stdout",
     "output_type": "stream",
     "text": [
      "[['_:0', 'http://dilab77.ionio.gr/swp/c17boik/vocab#Ημέρα', 'Δευτέρα'], ['_:0', 'http://dilab77.ionio.gr/swp/c17boik/vocab#Έναρξη', '15:00'], ['_:0', 'http://dilab77.ionio.gr/swp/c17boik/vocab#Λήξη', '18:00'], ['_:0', 'http://dilab77.ionio.gr/swp/c17boik/vocab#Καθηγητής', 'http://dilab77.ionio.gr/swp/yo/resource/ΚΟΜΙΑΝΟΣ'], ['_:0', 'http://dilab77.ionio.gr/swp/c17boik/vocab#Μάθημα', 'http://dilab77.ionio.gr/swp/yo/resource/ΨΥΧ.ΛΟΓΙΣΜΙΚΟ'], ['_:0', 'http://dilab77.ionio.gr/swp/c17boik/vocab#Αίθουσα', 'http://dilab77.ionio.gr/swp/yo/resource/2'], ['_:1', 'http://dilab77.ionio.gr/swp/c17boik/vocab#Ημέρα', 'Δευτέρα'], ['_:1', 'http://dilab77.ionio.gr/swp/c17boik/vocab#Έναρξη', '18:00'], ['_:1', 'http://dilab77.ionio.gr/swp/c17boik/vocab#Λήξη', '21:00'], ['_:1', 'http://dilab77.ionio.gr/swp/c17boik/vocab#Καθηγητής', 'http://dilab77.ionio.gr/swp/yo/resource/ΤΣΩΧΟΥ'], ['_:1', 'http://dilab77.ionio.gr/swp/c17boik/vocab#Μάθημα', 'http://dilab77.ionio.gr/swp/yo/resource/ΑΣΦ.ΠΛΗΡ.ΣΥΣΤΗΜΑΤΩΝ'], ['_:1', 'http://dilab77.ionio.gr/swp/c17boik/vocab#Αίθουσα', 'http://dilab77.ionio.gr/swp/yo/resource/3'], ['_:2', 'http://dilab77.ionio.gr/swp/c17boik/vocab#Ημέρα', 'Τρίτη'], ['_:2', 'http://dilab77.ionio.gr/swp/c17boik/vocab#Έναρξη', '15:00'], ['_:2', 'http://dilab77.ionio.gr/swp/c17boik/vocab#Λήξη', '18:00'], ['_:2', 'http://dilab77.ionio.gr/swp/c17boik/vocab#Καθηγητής', 'http://dilab77.ionio.gr/swp/yo/resource/Μ.ΣΤΕΦΑΝΙΔΑΚΗΣ'], ['_:2', 'http://dilab77.ionio.gr/swp/c17boik/vocab#Μάθημα', 'http://dilab77.ionio.gr/swp/yo/resource/ΠΡΟΓΡ.ΣΗΜ.ΙΣΤ.'], ['_:2', 'http://dilab77.ionio.gr/swp/c17boik/vocab#Αίθουσα', 'http://dilab77.ionio.gr/swp/yo/resource/Αρεταίος'], ['_:3', 'http://dilab77.ionio.gr/swp/c17boik/vocab#Ημέρα', 'Τρίτη'], ['_:3', 'http://dilab77.ionio.gr/swp/c17boik/vocab#Έναρξη', '18:00'], ['_:3', 'http://dilab77.ionio.gr/swp/c17boik/vocab#Λήξη', '21:00'], ['_:3', 'http://dilab77.ionio.gr/swp/c17boik/vocab#Καθηγητής', 'http://dilab77.ionio.gr/swp/yo/resource/ΒΛΑΜΟΣ'], ['_:3', 'http://dilab77.ionio.gr/swp/c17boik/vocab#Μάθημα', 'http://dilab77.ionio.gr/swp/yo/resource/ΒΙΟΠΛΗΡΟΦΟΡΙΚΗ'], ['_:3', 'http://dilab77.ionio.gr/swp/c17boik/vocab#Αίθουσα', 'http://dilab77.ionio.gr/swp/yo/resource/2'], ['_:4', 'http://dilab77.ionio.gr/swp/c17boik/vocab#Ημέρα', 'Τετάρτη'], ['_:4', 'http://dilab77.ionio.gr/swp/c17boik/vocab#Έναρξη', '15:00'], ['_:4', 'http://dilab77.ionio.gr/swp/c17boik/vocab#Λήξη', '18:00'], ['_:4', 'http://dilab77.ionio.gr/swp/c17boik/vocab#Καθηγητής', 'http://dilab77.ionio.gr/swp/yo/resource/ΠΑΤΕΛΗ'], ['_:4', 'http://dilab77.ionio.gr/swp/c17boik/vocab#Μάθημα', 'http://dilab77.ionio.gr/swp/yo/resource/ΗΛ.ΕΠΙΧΕΙΡ.'], ['_:4', 'http://dilab77.ionio.gr/swp/c17boik/vocab#Αίθουσα', 'http://dilab77.ionio.gr/swp/yo/resource/2'], ['_:5', 'http://dilab77.ionio.gr/swp/c17boik/vocab#Ημέρα', 'Τετάρτη'], ['_:5', 'http://dilab77.ionio.gr/swp/c17boik/vocab#Έναρξη', '18:00'], ['_:5', 'http://dilab77.ionio.gr/swp/c17boik/vocab#Λήξη', '21:00'], ['_:5', 'http://dilab77.ionio.gr/swp/c17boik/vocab#Καθηγητής', 'http://dilab77.ionio.gr/swp/yo/resource/ΑΥΛΩΝΙΤΗΣ'], ['_:5', 'http://dilab77.ionio.gr/swp/c17boik/vocab#Μάθημα', 'http://dilab77.ionio.gr/swp/yo/resource/ΠΡΟΣ.&ΜΟΝΤΕΛΟΠΟΙΗΣΗ'], ['_:5', 'http://dilab77.ionio.gr/swp/c17boik/vocab#Αίθουσα', 'http://dilab77.ionio.gr/swp/yo/resource/2'], ['_:6', 'http://dilab77.ionio.gr/swp/c17boik/vocab#Ημέρα', 'Πέμπτη'], ['_:6', 'http://dilab77.ionio.gr/swp/c17boik/vocab#Έναρξη', '18:00'], ['_:6', 'http://dilab77.ionio.gr/swp/c17boik/vocab#Λήξη', '21:00'], ['_:6', 'http://dilab77.ionio.gr/swp/c17boik/vocab#Καθηγητής', 'http://dilab77.ionio.gr/swp/yo/resource/ΜΥΛΩΝΑΣ'], ['_:6', 'http://dilab77.ionio.gr/swp/c17boik/vocab#Μάθημα', 'http://dilab77.ionio.gr/swp/yo/resource/ΕΞΟΡΥΞΗΔΕΔΟΜΕΝΩΝ'], ['_:6', 'http://dilab77.ionio.gr/swp/c17boik/vocab#Αίθουσα', 'http://dilab77.ionio.gr/swp/yo/resource/3']]\n"
     ]
    }
   ],
   "source": [
    "import csv\n",
    "\n",
    "ntriples=[]\n",
    "with open('urilist.csv','r',newline='') as ifp:\n",
    "    reader=csv.reader(ifp)\n",
    "    \n",
    "    for nt in reader:\n",
    "        ntriples.append(nt)\n",
    "    print(ntriples)"
   ]
  },
  {
   "cell_type": "markdown",
   "metadata": {
    "deletable": true,
    "editable": true
   },
   "source": [
    "## 2. Καθορίστε τους τύπους δεδομένων\n",
    "\n",
    "Οι απλές τιμές (literals) πρέπει να μετατραπούν σε **έγκυρη σύνταξη N-Triples**. Μέσω της Python\n",
    "\n",
    "* Εκφράστε τις ημέρες και το εξάμηνο σε απλά strings (π.χ. `\"Δευτέρα\"`).\n",
    "* Μετατρέψτε τις ώρες στο τύπο `xsd:time`.\n",
    "* Όλα τα URIs πρέπει να είναι μέσα σε `< >`.\n",
    "\n",
    "Ανατρέξτε στις διαφάνειες της τρέχουσας ενότητας για τη σωστή σύνταξη των προηγούμενων!\n",
    "\n",
    "**Σημείωση:** Ο τύπος `xsd:time` **πρέπει υποχρεωτικά** να έχει τη μορφή (ώρα, λεπτά, δευτερόλεπτα), π.χ. `\"18:00:00\"^^<http://www.w3.org/2001/XMLSchema#time>`."
   ]
  },
  {
   "cell_type": "code",
   "execution_count": 7,
   "metadata": {
    "collapsed": false,
    "deletable": true,
    "editable": true
   },
   "outputs": [
    {
     "name": "stdout",
     "output_type": "stream",
     "text": [
      "<http://dilab77.ionio.gr/swp/yo/resource/ΚΟΜΙΑΝΟΣ> <http://www.w3.org/1999/02/22-rdf-syntax-ns#type> <http://dilab77.ionio.gr/swp/c17boik/vocab#Teacher> . \n",
      "\n",
      "<http://dilab77.ionio.gr/swp/yo/resource/ΨΥΧ.ΛΟΓΙΣΜΙΚΟ> <http://www.w3.org/1999/02/22-rdf-syntax-ns#type> <http://dilab77.ionio.gr/swp/c17boik/vocab#Course> . \n",
      "\n",
      "<http://dilab77.ionio.gr/swp/yo/resource/2> <http://www.w3.org/1999/02/22-rdf-syntax-ns#type> <http://dilab77.ionio.gr/swp/c17boik/vocab#Classroom> . \n",
      "\n",
      "<http://dilab77.ionio.gr/swp/yo/resource/ΤΣΩΧΟΥ> <http://www.w3.org/1999/02/22-rdf-syntax-ns#type> <http://dilab77.ionio.gr/swp/c17boik/vocab#Teacher> . \n",
      "\n",
      "<http://dilab77.ionio.gr/swp/yo/resource/ΑΣΦ.ΠΛΗΡ.ΣΥΣΤΗΜΑΤΩΝ> <http://www.w3.org/1999/02/22-rdf-syntax-ns#type> <http://dilab77.ionio.gr/swp/c17boik/vocab#Course> . \n",
      "\n",
      "<http://dilab77.ionio.gr/swp/yo/resource/3> <http://www.w3.org/1999/02/22-rdf-syntax-ns#type> <http://dilab77.ionio.gr/swp/c17boik/vocab#Classroom> . \n",
      "\n",
      "<http://dilab77.ionio.gr/swp/yo/resource/Μ.ΣΤΕΦΑΝΙΔΑΚΗΣ> <http://www.w3.org/1999/02/22-rdf-syntax-ns#type> <http://dilab77.ionio.gr/swp/c17boik/vocab#Teacher> . \n",
      "\n",
      "<http://dilab77.ionio.gr/swp/yo/resource/ΠΡΟΓΡ.ΣΗΜ.ΙΣΤ.> <http://www.w3.org/1999/02/22-rdf-syntax-ns#type> <http://dilab77.ionio.gr/swp/c17boik/vocab#Course> . \n",
      "\n",
      "<http://dilab77.ionio.gr/swp/yo/resource/Αρεταίος> <http://www.w3.org/1999/02/22-rdf-syntax-ns#type> <http://dilab77.ionio.gr/swp/c17boik/vocab#Classroom> . \n",
      "\n",
      "<http://dilab77.ionio.gr/swp/yo/resource/ΒΛΑΜΟΣ> <http://www.w3.org/1999/02/22-rdf-syntax-ns#type> <http://dilab77.ionio.gr/swp/c17boik/vocab#Teacher> . \n",
      "\n",
      "<http://dilab77.ionio.gr/swp/yo/resource/ΒΙΟΠΛΗΡΟΦΟΡΙΚΗ> <http://www.w3.org/1999/02/22-rdf-syntax-ns#type> <http://dilab77.ionio.gr/swp/c17boik/vocab#Course> . \n",
      "\n",
      "<http://dilab77.ionio.gr/swp/yo/resource/2> <http://www.w3.org/1999/02/22-rdf-syntax-ns#type> <http://dilab77.ionio.gr/swp/c17boik/vocab#Classroom> . \n",
      "\n",
      "<http://dilab77.ionio.gr/swp/yo/resource/ΠΑΤΕΛΗ> <http://www.w3.org/1999/02/22-rdf-syntax-ns#type> <http://dilab77.ionio.gr/swp/c17boik/vocab#Teacher> . \n",
      "\n",
      "<http://dilab77.ionio.gr/swp/yo/resource/ΗΛ.ΕΠΙΧΕΙΡ.> <http://www.w3.org/1999/02/22-rdf-syntax-ns#type> <http://dilab77.ionio.gr/swp/c17boik/vocab#Course> . \n",
      "\n",
      "<http://dilab77.ionio.gr/swp/yo/resource/2> <http://www.w3.org/1999/02/22-rdf-syntax-ns#type> <http://dilab77.ionio.gr/swp/c17boik/vocab#Classroom> . \n",
      "\n",
      "<http://dilab77.ionio.gr/swp/yo/resource/ΑΥΛΩΝΙΤΗΣ> <http://www.w3.org/1999/02/22-rdf-syntax-ns#type> <http://dilab77.ionio.gr/swp/c17boik/vocab#Teacher> . \n",
      "\n",
      "<http://dilab77.ionio.gr/swp/yo/resource/ΠΡΟΣ.&ΜΟΝΤΕΛΟΠΟΙΗΣΗ> <http://www.w3.org/1999/02/22-rdf-syntax-ns#type> <http://dilab77.ionio.gr/swp/c17boik/vocab#Course> . \n",
      "\n",
      "<http://dilab77.ionio.gr/swp/yo/resource/2> <http://www.w3.org/1999/02/22-rdf-syntax-ns#type> <http://dilab77.ionio.gr/swp/c17boik/vocab#Classroom> . \n",
      "\n",
      "<http://dilab77.ionio.gr/swp/yo/resource/ΜΥΛΩΝΑΣ> <http://www.w3.org/1999/02/22-rdf-syntax-ns#type> <http://dilab77.ionio.gr/swp/c17boik/vocab#Teacher> . \n",
      "\n",
      "<http://dilab77.ionio.gr/swp/yo/resource/ΕΞΟΡΥΞΗΔΕΔΟΜΕΝΩΝ> <http://www.w3.org/1999/02/22-rdf-syntax-ns#type> <http://dilab77.ionio.gr/swp/c17boik/vocab#Course> . \n",
      "\n",
      "<http://dilab77.ionio.gr/swp/yo/resource/3> <http://www.w3.org/1999/02/22-rdf-syntax-ns#type> <http://dilab77.ionio.gr/swp/c17boik/vocab#Classroom> . \n",
      "\n",
      "[('_:6', '<http://dilab77.ionio.gr/swp/c17boik/vocab#Αίθουσα>', '<http://dilab77.ionio.gr/swp/yo/resource/3>')]\n"
     ]
    }
   ],
   "source": [
    "newtriples = []\n",
    "with open('schedule-data.nt','w') as ofp:\n",
    "    for s,p,o in ntriples:\n",
    "        p='<' + p + '>'\n",
    "        if p=='<http://dilab77.ionio.gr/swp/c17boik/vocab#Ημέρα>':\n",
    "            o='\"' + o + '\"'\n",
    "            ofp.write('{} {} {}.\\n'.format(s,p,o,s+p+o))\n",
    "        if o.startswith('http'):\n",
    "            o='<' + o + '>'\n",
    "            ofp.write('{} {} {}.\\n'.format(s,p,o,s+p+o))\n",
    "        if p=='<http://dilab77.ionio.gr/swp/c17boik/vocab#Έναρξη>' or p=='<http://dilab77.ionio.gr/swp/c17boik/vocab#Λήξη>':\n",
    "            o=o + ':00'\n",
    "            o='\"'+ o + '\"' + '^^<http://www.w3.org/2001/XMLSchema#time>'\n",
    "            ofp.write('{} {} {}.\\n'.format(s,p,o,s+p+o))\n",
    "        if s=='<http://dilab77.ionio.gr/swp/c17boik/vocab#Αίθουσα>':\n",
    "            print('{} {} {} . \\n'.format(o,'<http://www.w3.org/1999/02/22-rdf-syntax-ns#type>','<http://dilab77.ionio.gr/swp/c17boik/vocab#Teacher>'))\n",
    "            ofp.write('{} {} {} . \\n'.format(o,'<http://www.w3.org/1999/02/22-rdf-syntax-ns#type>','<http://dilab77.ionio.gr/swp/c17boik/vocab#Teacher>'))\n",
    "        if p=='<http://dilab77.ionio.gr/swp/c17boik/vocab#Καθηγητής>':\n",
    "            print('{} {} {} . \\n'.format(o,'<http://www.w3.org/1999/02/22-rdf-syntax-ns#type>','<http://dilab77.ionio.gr/swp/c17boik/vocab#Teacher>'))\n",
    "            ofp.write('{} {} {} . \\n'.format(o,'<http://www.w3.org/1999/02/22-rdf-syntax-ns#type>','<http://dilab77.ionio.gr/swp/c17boik/vocab#Teacher>'))\n",
    "        if p=='<http://dilab77.ionio.gr/swp/c17boik/vocab#Μάθημα>':\n",
    "            print('{} {} {} . \\n'.format(o,'<http://www.w3.org/1999/02/22-rdf-syntax-ns#type>','<http://dilab77.ionio.gr/swp/c17boik/vocab#Course>'))\n",
    "            ofp.write('{} {} {} . \\n'.format(o,'<http://www.w3.org/1999/02/22-rdf-syntax-ns#type>','<http://dilab77.ionio.gr/swp/c17boik/vocab#Course>'))\n",
    "        if p=='<http://dilab77.ionio.gr/swp/c17boik/vocab#Αίθουσα>':\n",
    "            print('{} {} {} . \\n'.format(o,'<http://www.w3.org/1999/02/22-rdf-syntax-ns#type>','<http://dilab77.ionio.gr/swp/c17boik/vocab#Classroom>'))\n",
    "            ofp.write('{} {} {} . \\n'.format(o,'<http://www.w3.org/1999/02/22-rdf-syntax-ns#type>','<http://dilab77.ionio.gr/swp/c17boik/vocab#Classroom>'))\n",
    "           \n",
    "            \n",
    "    newtriples.append((s,p,o))\n",
    "print(newtriples)\n",
    "\n",
    "       \n",
    "\n",
    "    "
   ]
  },
  {
   "cell_type": "markdown",
   "metadata": {
    "deletable": true,
    "editable": true
   },
   "source": [
    "## 3. Παραγωγή αρχείου N-triples\n",
    "\n",
    "Στο τελευταίο αυτό βήμα, αποθηκεύστε το περιεχόμενο των τριάδων σε αρχείο κειμένου σύμφωνα με το πρότυπο N-Triples. Το αρχείο σας θα πρέπει να έχει κατάληξη `.nt` .\n",
    "\n",
    "**Θυμηθείτε**: κάθε γραμμή ενός αρχείου N-Triples περιέχει **ακριβώς μία** τριάδα, με τα μέρη των τριάδων χωρισμένα με κενό (space). Η γραμμή τελειώνει με την **τελεία**."
   ]
  },
  {
   "cell_type": "markdown",
   "metadata": {
    "deletable": true,
    "editable": true
   },
   "source": [
    "#### Υποδειξη: μορφοποίηση strings\n",
    "\n",
    "Μια απλή μορφοποίηση ενός string μπορεί να γίνει ως εξής\n",
    "\n",
    "```python\n",
    "a = 1\n",
    "b = 2\n",
    "print('{}+{}={}'.format(a,b,a+b))\n",
    "```\n",
    "\n",
    "Χρησιμοποιήστε τη `format()` όπως στο παράδειγμα για να φτιάξετε κάθε γραμμή του αρχείου N-Triples. Όταν φτάσετε στο επιθυμητό αποτέλεσμα, αντικαταστήστε την `print()` με τη μέθοδο `write()` του αρχείου εξόδου. Προσοχή: η `write()` δεν προσθέτει αυτόματα χαρακτήρα νέας γραμμής `\\n`, πρέπει να τον βάλετε εσείς!"
   ]
  },
  {
   "cell_type": "code",
   "execution_count": null,
   "metadata": {
    "collapsed": false,
    "deletable": true,
    "editable": true
   },
   "outputs": [],
   "source": [
    "\n",
    "       "
   ]
  },
  {
   "cell_type": "markdown",
   "metadata": {
    "deletable": true,
    "editable": true
   },
   "source": [
    "## 4. Είναι το αρχείο σας έγκυρο;\n",
    "\n",
    "Βεβαιωθείτε ότι το αρχείο σας έχει έγκυρη μορφή N-Triples. Αυτό θα το κάνετε μέσω του εργαλείου `riot`. Στο επόμενο κελί εισάγετε το εξής:\n",
    "\n",
    "`!riot --validate yourfile.nt`\n",
    "\n",
    "Περιμένετε μέχρι να ολοκληρωθεί η εκτέλεση (να μην φαίνεται `In [*]`). **Αν το αρχείο σας είναι ΟΚ, δεν θα δείτε τίποτα ως έξοδο!**"
   ]
  },
  {
   "cell_type": "code",
   "execution_count": 1,
   "metadata": {
    "collapsed": false,
    "deletable": true,
    "editable": true
   },
   "outputs": [],
   "source": [
    "!riot --validate schedule-data.nt"
   ]
  },
  {
   "cell_type": "markdown",
   "metadata": {
    "deletable": true,
    "editable": true
   },
   "source": [
    "## 5. Δεδομένα RDF σε άλλες μορφές.\n",
    "\n",
    "Εφόσον έχετε έγκυρο αρχείο N-Triples, μπορείτε να το μετατρέψετε σε διάφορες άλλες μορφές. Το εργαλείο `riot` θα σας βοηθήσει πάλι:\n",
    "\n",
    "Δοκιμάστε την εντολή `!riot --output=FMT yourfile.nt`, βάζοντας στη θέση του `FMT` τα `turtle` και `rdfxml`. Η έξοδος θα φανεί στην οθόνη σας.\n",
    "\n",
    "Αν θέλετε να σώσετε σε νέο αρχείο την καινούργια μορφή, δώστε π.χ.:\n",
    "\n",
    "`!riot --output=turtle yourfile.nt > yourfile.ttl`"
   ]
  },
  {
   "cell_type": "code",
   "execution_count": null,
   "metadata": {
    "collapsed": false,
    "deletable": true,
    "editable": true
   },
   "outputs": [],
   "source": []
  },
  {
   "cell_type": "code",
   "execution_count": null,
   "metadata": {
    "collapsed": true,
    "deletable": true,
    "editable": true
   },
   "outputs": [],
   "source": []
  },
  {
   "cell_type": "markdown",
   "metadata": {
    "deletable": true,
    "editable": true
   },
   "source": [
    "## Το τέλος του ωρολογίου προγράμματος.\n",
    "\n",
    "**Συγχαρητήρια!!** Μόλις περάσατε από τα ad hoc σημασιολογικά δεδομένα σε πρότυπες μορφές αναπαράστασης. Τώρα πλέον μπορείτε να επεξεργαστείτε τα δεδομένα σας με όλα τα διαθέσιμα εργαλεία του Σημασιολογικού Ιστού!"
   ]
  }
 ],
 "metadata": {
  "kernelspec": {
   "display_name": "Python 3",
   "language": "python",
   "name": "python3"
  },
  "language_info": {
   "codemirror_mode": {
    "name": "ipython",
    "version": 3
   },
   "file_extension": ".py",
   "mimetype": "text/x-python",
   "name": "python",
   "nbconvert_exporter": "python",
   "pygments_lexer": "ipython3",
   "version": "3.4.4"
  }
 },
 "nbformat": 4,
 "nbformat_minor": 0
}
